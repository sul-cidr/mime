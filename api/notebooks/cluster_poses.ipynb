{
 "cells": [
  {
   "cell_type": "code",
   "execution_count": null,
   "metadata": {},
   "outputs": [],
   "source": [
    "import asyncio\n",
    "import logging\n",
    "import os\n",
    "from pathlib import Path\n",
    "import sys\n",
    "\n",
    "import imageio.v3 as iio\n",
    "from sklearn.cluster import HDBSCAN\n",
    "from matplotlib import colormaps, colors\n",
    "from matplotlib.offsetbox import OffsetImage, AnnotationBbox\n",
    "import matplotlib.pyplot as plt\n",
    "import numpy as np\n",
    "import pandas as pd\n",
    "from PIL import Image\n",
    "import umap\n",
    "\n",
    "from mime_db import MimeDb\n"
   ]
  },
  {
   "cell_type": "code",
   "execution_count": null,
   "metadata": {},
   "outputs": [],
   "source": [
    "from pose_functions import *"
   ]
  },
  {
   "cell_type": "code",
   "execution_count": null,
   "metadata": {},
   "outputs": [],
   "source": [
    "VIDEO_FILE = \"JuliusCaesar—WinterMainStage23.mp4\" # Just the name of the video file, no path\n",
    "\n",
    "video_path = Path(\"videos\", VIDEO_FILE)\n",
    "\n",
    "# Connect to the database\n",
    "db = await MimeDb.create()\n",
    "\n",
    "# Get video metadata\n",
    "video_name = video_path.name\n",
    "video_id = await db.get_video_id(video_name)\n",
    "video_id = video_id[0][\"id\"]\n",
    "\n",
    "video_movelets = await db.get_movelet_data_from_video(video_id)\n",
    "\n",
    "movelets_df = pd.DataFrame.from_records(video_movelets, columns=video_movelets[0].keys())\n",
    "\n",
    "# XXX Not sure why a few of the movement values are NaNs\n",
    "movelets_df['movement'].fillna(0, inplace=True)"
   ]
  },
  {
   "cell_type": "code",
   "execution_count": null,
   "metadata": {},
   "outputs": [],
   "source": [
    "print(len(movelets_df))\n",
    "print(len(movelets_df[movelets_df['movement'] == 0]))\n",
    "print(len(movelets_df[(movelets_df['movement'] > 0) & (movelets_df['movement'] < 10)]))\n",
    "\n",
    "print(np.mean(movelets_df['movement']))\n",
    "print(np.median(movelets_df['movement']))"
   ]
  },
  {
   "cell_type": "code",
   "execution_count": null,
   "metadata": {},
   "outputs": [],
   "source": [
    "plt.hist(movelets_df[movelets_df['movement'] <= 500]['movement'], bins=300)"
   ]
  },
  {
   "cell_type": "code",
   "execution_count": null,
   "metadata": {},
   "outputs": [],
   "source": [
    "#frozen_movelets = movelets_df[movelets_df['movement'] == 0]\n",
    "frozen_movelets = movelets_df[(movelets_df['movement'] > 0) & (movelets_df['movement'] < 10)]\n",
    "frozen_poses = frozen_movelets['norm'].tolist()"
   ]
  },
  {
   "cell_type": "code",
   "execution_count": null,
   "metadata": {},
   "outputs": [],
   "source": [
    "frozen_poses"
   ]
  },
  {
   "cell_type": "code",
   "execution_count": null,
   "metadata": {},
   "outputs": [],
   "source": [
    "standard_embedding = umap.UMAP(\n",
    "    random_state=42,\n",
    ").fit_transform(frozen_poses)\n",
    "\n",
    "plt.scatter(standard_embedding[:, 0], standard_embedding[:, 1], s=4)"
   ]
  },
  {
   "cell_type": "code",
   "execution_count": null,
   "metadata": {},
   "outputs": [],
   "source": [
    "clusterable_embedding = umap.UMAP(\n",
    "    n_neighbors=10,\n",
    "    min_dist=1.0,\n",
    "    n_components=2,\n",
    "    random_state=42,\n",
    ").fit_transform(frozen_poses)\n",
    "\n",
    "plt.scatter(clusterable_embedding[:, 0], clusterable_embedding[:, 1], s=4)"
   ]
  },
  {
   "cell_type": "code",
   "execution_count": null,
   "metadata": {},
   "outputs": [],
   "source": [
    "print(\"fitting clustering model\")\n",
    "\n",
    "hdb = HDBSCAN(min_cluster_size=3, min_samples=4) # , max_cluster_size=15\n",
    "hdb.fit(frozen_poses)\n",
    "labels = hdb.labels_.tolist()\n",
    "\n",
    "assigned_poses = 0\n",
    "\n",
    "for cluster_id in range(-1, max(labels) + 1):\n",
    "    print(\"Poses in cluster\", cluster_id, labels.count(cluster_id))\n",
    "    if cluster_id != -1:\n",
    "        assigned_poses += labels.count(cluster_id)\n",
    "\n",
    "print(\"assigned\", assigned_poses, \"poses out of\", len(labels), round(assigned_poses/len(labels),4))\n",
    "    \n",
    "plt.scatter(clusterable_embedding[:, 0], clusterable_embedding[:, 1], c=labels, cmap='Spectral', s=4)"
   ]
  },
  {
   "cell_type": "code",
   "execution_count": null,
   "metadata": {},
   "outputs": [],
   "source": [
    "print(\"fitting UMAP preclustered model\")\n",
    "\n",
    "hdb = HDBSCAN(min_cluster_size=3, min_samples=4) # , max_cluster_size=15\n",
    "hdb.fit(clusterable_embedding)\n",
    "labels = hdb.labels_.tolist()\n",
    "\n",
    "assigned_poses = 0\n",
    "\n",
    "for cluster_id in range(-1, max(labels) + 1):\n",
    "    print(\"Poses in cluster\", cluster_id, labels.count(cluster_id))\n",
    "    if cluster_id != -1:\n",
    "        assigned_poses += labels.count(cluster_id)\n",
    "\n",
    "print(\"assigned\", assigned_poses, \"poses out of\", len(labels), round(assigned_poses/len(labels),4))\n",
    "    \n",
    "plt.scatter(clusterable_embedding[:, 0], clusterable_embedding[:, 1], c=labels, cmap='Spectral', s=4)"
   ]
  },
  {
   "cell_type": "code",
   "execution_count": null,
   "metadata": {},
   "outputs": [],
   "source": [
    "print(\"fitting UMAP preclustered model\")\n",
    "show_poses = True\n",
    "plot_images = True\n",
    "\n",
    "hdb = HDBSCAN(min_cluster_size=3, min_samples=4) # , max_cluster_size=15\n",
    "hdb.fit(clusterable_embedding)\n",
    "labels = hdb.labels_.tolist()\n",
    "\n",
    "assigned_poses = 0\n",
    "\n",
    "cluster_to_poses = {}\n",
    "for i, cluster_id in enumerate(labels):\n",
    "    if cluster_id not in cluster_to_poses:\n",
    "        cluster_to_poses[cluster_id] = [i]\n",
    "    else:\n",
    "        cluster_to_poses[cluster_id].append(i)\n",
    "\n",
    "for cluster_id in range(-1, max(labels) + 1):\n",
    "    print(\"Poses in cluster\", cluster_id, labels.count(cluster_id))\n",
    "    if cluster_id != -1:\n",
    "        assigned_poses += labels.count(cluster_id)\n",
    "\n",
    "print(\"assigned\", assigned_poses, \"poses out of\", len(labels), round(assigned_poses/len(labels),4))\n",
    "\n",
    "if show_poses:\n",
    "    for cluster_id in cluster_to_poses:\n",
    "        cluster_poses = []\n",
    "        print(\"CLUSTER:\", cluster_id, \"POSES:\", len(cluster_to_poses[cluster_id]))\n",
    "        for pose_index in cluster_to_poses[cluster_id]:\n",
    "            cl_pose = frozen_poses[pose_index]\n",
    "            cl_pose[cl_pose==-1] = np.nan\n",
    "            cluster_poses.append(cl_pose)\n",
    "        cluster_average = np.nanmean(np.array(cluster_poses), axis=0).tolist()\n",
    "        armature_prevalences = get_armature_prevalences(cluster_poses)\n",
    "        cluster_average = np.array_split(cluster_average, len(cluster_average) / 2)\n",
    "        #print(\"Average pose in cluster\", cluster_id, cluster_average)\n",
    "        cluster_average_img = draw_normalized_and_unflattened_pose(\n",
    "            cluster_average, armature_prevalences=armature_prevalences\n",
    "        )\n",
    "        plt.figure(figsize=(2,2))\n",
    "        plt.imshow(cluster_average_img)\n",
    "        \n",
    "\n",
    "fig = plt.figure(figsize=(40,40))\n",
    "ax = fig.gca()\n",
    "cm = colormaps[\"Spectral\"]\n",
    "norm = colors.Normalize(vmin=-1, vmax=max(labels))\n",
    "\n",
    "if plot_images:\n",
    "    \n",
    "    ax.scatter(clusterable_embedding[:, 0], clusterable_embedding[:, 1], alpha=0)\n",
    "    for i, cluster_id in enumerate(labels):\n",
    "        if cluster_id == -1:\n",
    "            continue\n",
    "        cl_pose = frozen_poses[i]\n",
    "        cl_pose[cl_pose==-1] = np.nan\n",
    "        cluster_pose = np.array_split(cl_pose, len(cl_pose) / 2)\n",
    "        cluster_pose_img = draw_normalized_and_unflattened_pose(\n",
    "            cluster_pose, armature_prevalences=[1] * 19\n",
    "        )\n",
    "        #img = Image.fromarray(img_region)\n",
    "        img = cluster_pose_img\n",
    "        img.thumbnail((40, 40), resample=Image.Resampling.LANCZOS)\n",
    "        ab = AnnotationBbox(OffsetImage(np.asarray(img)), (clusterable_embedding[i, 0], clusterable_embedding[i, 1]), frameon=False)\n",
    "        #ab.patch.set_linewidth(0)\n",
    "        #ab.patch.set(color=cm(norm(cluster_id)))\n",
    "\n",
    "        ax.add_artist(ab)\n",
    "else:\n",
    "    ax.scatter(clusterable_embedding[:, 0], clusterable_embedding[:, 1], c=labels, cmap='Spectral', s=4)"
   ]
  },
  {
   "cell_type": "code",
   "execution_count": null,
   "metadata": {},
   "outputs": [],
   "source": []
  }
 ],
 "metadata": {
  "kernelspec": {
   "display_name": "Python 3 (ipykernel)",
   "language": "python",
   "name": "python3"
  },
  "language_info": {
   "codemirror_mode": {
    "name": "ipython",
    "version": 3
   },
   "file_extension": ".py",
   "mimetype": "text/x-python",
   "name": "python",
   "nbconvert_exporter": "python",
   "pygments_lexer": "ipython3",
   "version": "3.10.12"
  }
 },
 "nbformat": 4,
 "nbformat_minor": 2
}
